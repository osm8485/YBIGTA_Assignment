{
 "cells": [
  {
   "cell_type": "markdown",
   "id": "aaa36ec7",
   "metadata": {
    "id": "brsf6BkUeJnH"
   },
   "source": [
    "### 과제 1\n",
    "\n",
    "**튜플**을 오름차순 정렬해서 리스트로 반환하는 함수를 만들어주세요.\n",
    "```sorted()``` 함수는 금지입니다. 버블 정렬, 삽입 정렬, 퀵 정렬 등 원하는 정렬 알고리즘을 선택해주세요\n",
    "\n",
    "\n",
    "```python3\n",
    "tup = (3, 4, 1)\n",
    "lst = sort(tup)\n",
    "# [1, 3, 4]가 나와야 함\n",
    "print(lst) \n",
    "```"
   ]
  },
  {
   "cell_type": "code",
   "execution_count": 7,
   "id": "212d040f",
   "metadata": {},
   "outputs": [],
   "source": [
    "def sort(tup):\n",
    "    # 이 부분은 지우지 말아주세요\n",
    "    if not isinstance(tup, tuple):\n",
    "        raise TypeError(\"tuple을 넣어주세요\")\n",
    "    # FIXME\n",
    "    new_list = list(tup)\n",
    "    trial=0\n",
    "    while trial<len(new_list)-1:\n",
    "        for i in range(len(new_list) - 1):\n",
    "            if new_list[i]>new_list[i+1]:\n",
    "                new_list[i], new_list[i+1] = new_list[i+1], new_list[i]\n",
    "        trial+=1\n",
    "    return new_list"
   ]
  },
  {
   "cell_type": "code",
   "execution_count": 8,
   "id": "8bdd9ac7",
   "metadata": {},
   "outputs": [
    {
     "name": "stdout",
     "output_type": "stream",
     "text": [
      "[1, 3, 8, 9, 11]\n"
     ]
    }
   ],
   "source": [
    "# 결과확인\n",
    "tup = (8, 9, 1, 3, 11)\n",
    "print(sort(tup))"
   ]
  },
  {
   "cell_type": "markdown",
   "id": "b37a3aa3",
   "metadata": {
    "id": "UvU1Zh9Q0DEd"
   },
   "source": [
    "## 과제 2\n",
    "\n",
    "1. 'Point' 라는 이름의 클래스를 만들어 주세요.\n",
    "\n",
    "2. 'Point' 클래스는 0이 아닌 정수 x와 y를 인스턴스 변수를 생성자에 입력 받습니다.\n",
    "\n",
    "3. 'Point' 클래스는 위치를 set하는 함수 ```set_position(x, y)```이 있습니다.\n",
    "\n",
    "4. 'Point' 클래스는 위치를 get하는 함수 ```get_position()```이 있습니다.\n",
    "\n",
    "5. 'Point' 클래스는 다른 Point instance와의 거리를 계산하는 ```get_dist()``` 함수가 있습니다.\n",
    "\n",
    "6. (심화-선택) 'Point' 클래스는 ```print(Point)```를 했을 때 Point(x: x, y: y)를 출력해야합니다."
   ]
  },
  {
   "cell_type": "code",
   "execution_count": 9,
   "id": "e265b849",
   "metadata": {},
   "outputs": [],
   "source": [
    "from math import sqrt\n",
    "\n",
    "class Point:\n",
    "    def __init__(self, x, y):\n",
    "        self.x=x\n",
    "        self.y=y\n",
    "    def __str__(self):\n",
    "        return \"Point(x: %d, y: %d)\"%(self.x, self.y)\n",
    "    def set_point(self,x,y):\n",
    "        self.x=x\n",
    "        self.y=y\n",
    "    def get_point(self):\n",
    "        print(\"x: %d, y: %d\"%(self.x, self.y))\n",
    "    def get_dist(self,other):\n",
    "        result=sqrt((self.x-other.x)**2+(self.y-other.y)**2)\n",
    "        return result"
   ]
  },
  {
   "cell_type": "code",
   "execution_count": 10,
   "id": "f9e876a1",
   "metadata": {},
   "outputs": [
    {
     "name": "stdout",
     "output_type": "stream",
     "text": [
      "x: 1, y: 2\n",
      "x: 10, y: 20\n",
      "17.46424919657298\n",
      "Point(x: 10, y: 20)\n",
      "Point(x: 3, y: 4)\n"
     ]
    }
   ],
   "source": [
    "# 결과 확인\n",
    "p1 = Point(1, 2)\n",
    "# 출력\n",
    "# x: 1, y: 2 \n",
    "p1.get_point()\n",
    "p1.set_point(10, 20)\n",
    "# 출력\n",
    "# x: 10, y: 20\n",
    "p1.get_point()\n",
    "\n",
    "p2 = Point(3, 4)\n",
    "# (10, 20)과 (3, 4)의 유클리디안 거리를 계산해주세요\n",
    "print(p1.get_dist(p2))\n",
    "\n",
    "# (심화-선택)\n",
    "print(p1)\n",
    "print(p2)"
   ]
  },
  {
   "cell_type": "markdown",
   "id": "0420720c",
   "metadata": {
    "id": "ZlOfrwFB0DEe"
   },
   "source": [
    "## 과제 제출\n",
    "\n",
    "1. 문제를 풀고 구글 드라이브의 과제제출 폴더에 업로드 해주시면 됩니다.\n",
    "\n",
    "\n",
    "2. 파일명은 '19기_학과_이름'으로 해주시면 됩니다.\n",
    "\n",
    "\n",
    "### 더 알아보면 좋을 것들: 에러 핸들링, 파일 I/O"
   ]
  }
 ],
 "metadata": {
  "kernelspec": {
   "display_name": "Python 3",
   "language": "python",
   "name": "python3"
  },
  "language_info": {
   "codemirror_mode": {
    "name": "ipython",
    "version": 3
   },
   "file_extension": ".py",
   "mimetype": "text/x-python",
   "name": "python",
   "nbconvert_exporter": "python",
   "pygments_lexer": "ipython3",
   "version": "3.8.8"
  }
 },
 "nbformat": 4,
 "nbformat_minor": 5
}
